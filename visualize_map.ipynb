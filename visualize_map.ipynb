{
 "cells": [
  {
   "cell_type": "code",
   "execution_count": 100,
   "metadata": {},
   "outputs": [],
   "source": [
    "import folium\n",
    "import region\n",
    "import json\n",
    "import webbrowser"
   ]
  },
  {
   "cell_type": "code",
   "execution_count": 101,
   "metadata": {},
   "outputs": [],
   "source": [
    "#region.py 에서 불러온 데이터\n",
    "seoulgu_dict = region.seoul_dict\n",
    "\n",
    "#folium이 지원하는 데이터 타입에 맞추기 위해 DataFrame으로 변환\n",
    "data = region.pd.DataFrame(list(seoulgu_dict.items()),\n",
    "                          columns = ['지역', '판매량'])"
   ]
  },
  {
   "cell_type": "code",
   "execution_count": 102,
   "metadata": {},
   "outputs": [],
   "source": [
    "#한국 시, 군, 구별 지리정보 json 파일 불러오기\n",
    "\n",
    "with open('TL_SCCO_SIG_WGS84.json', encoding='UTF8') as f:\n",
    "    geo_data = json.load(f)"
   ]
  },
  {
   "cell_type": "code",
   "execution_count": 107,
   "metadata": {},
   "outputs": [
    {
     "data": {
      "text/plain": [
       "True"
      ]
     },
     "execution_count": 107,
     "metadata": {},
     "output_type": "execute_result"
    }
   ],
   "source": [
    "#서울시 행정구별 판매량 히트맵으로 시각화\n",
    "\n",
    "m = folium.Map(location = [37.5642135, 127.0016985], tiles = \"OpenStreetMap\", zoom_start = 11)\n",
    "\n",
    "m.choropleth(geo_data = geo_data,\n",
    "            name = 'choropleth',\n",
    "            data = data,\n",
    "            columns = ['지역', '판매량'],\n",
    "            key_on = 'feature.properties.SIG_KOR_NM',\n",
    "            fill_color = 'YlGn',\n",
    "            fill_opacity = 0.7,\n",
    "            line_opacity = 0.5,\n",
    "            legend_name = '지역별 판매량')\n",
    "\n",
    "folium.LayerControl().add_to(m)\n",
    "\n",
    "#html에서 열고 싶은 경우 아래 코드 활성화\n",
    "m.save('folium_kr.html')\n",
    "webbrowser.open_new(\"folium_kr.html\")"
   ]
  }
 ],
 "metadata": {
  "kernelspec": {
   "display_name": "Python 3",
   "language": "python",
   "name": "python3"
  },
  "language_info": {
   "codemirror_mode": {
    "name": "ipython",
    "version": 3
   },
   "file_extension": ".py",
   "mimetype": "text/x-python",
   "name": "python",
   "nbconvert_exporter": "python",
   "pygments_lexer": "ipython3",
   "version": "3.8.5"
  }
 },
 "nbformat": 4,
 "nbformat_minor": 4
}
