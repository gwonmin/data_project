{
 "cells": [
  {
   "cell_type": "code",
   "execution_count": 65,
   "metadata": {},
   "outputs": [],
   "source": [
    "import pandas as pd\n",
    "import numpy as np\n",
    "import matplotlib.pyplot as plt\n",
    "\n",
    "df = pd.read_csv(\"20년 10월.csv\", encoding = 'cp949')"
   ]
  },
  {
   "cell_type": "code",
   "execution_count": 66,
   "metadata": {},
   "outputs": [],
   "source": [
    "#구매자 지역 정보 데이터에서 ~시, ~군만 추출한 리스트\n",
    "\n",
    "df_sigun = df[\"주소\"].str.extract('(\\w*시)|(\\w*군)')\n",
    "\n",
    "si_list = [i for i in df_sigun.dropna(subset = [0])[0]]\n",
    "\n",
    "gun_list = [i for i in df_sigun.dropna(subset = [1])[1]]\n",
    "\n",
    "sell_list = si_list + gun_list"
   ]
  },
  {
   "cell_type": "code",
   "execution_count": 67,
   "metadata": {},
   "outputs": [],
   "source": [
    "#국내 시, 군 지역 리스트\n",
    "\n",
    "df_region = pd.read_excel(\"전국행정동리스트.xlsx\")\n",
    "\n",
    "region_list = [i for i in df_region['Unnamed: 1']]\n",
    "\n",
    "region_set = set(region_list)\n",
    "\n",
    "region_set.remove('시 / 군')\n",
    "\n",
    "region_set.update(['광주광역시', '대구광역시', '대전광역시', '부산광역시',\n",
    "                  '세종특별자치시', '서울특별시', '울산광역시', '인천광역시', '제주시'])\n",
    "\n",
    "sigun_list = list(region_set)"
   ]
  },
  {
   "cell_type": "code",
   "execution_count": 68,
   "metadata": {},
   "outputs": [],
   "source": [
    "def count_dict(key_list, target_list):\n",
    "    result = {}\n",
    "    \n",
    "    for key in range(len(key_list)):\n",
    "        count = 0\n",
    "\n",
    "        for target in target_list:\n",
    "            if key_list[key] == target:\n",
    "                count += 1\n",
    "            else:\n",
    "                pass\n",
    "\n",
    "        result[key_list[key]] = count\n",
    "        \n",
    "    return result"
   ]
  },
  {
   "cell_type": "code",
   "execution_count": 69,
   "metadata": {},
   "outputs": [],
   "source": [
    "def descending_order(dic): # Value값을 기준으로 내림차순 정렬\n",
    "    return dict(sorted(dic.items(), key = lambda item: item[1], reverse = True))\n"
   ]
  },
  {
   "cell_type": "code",
   "execution_count": 70,
   "metadata": {},
   "outputs": [],
   "source": [
    "def drawbar_top10(dic): #상위 10개 값만 차트로 출력\n",
    "    x, y = zip(*dic.items()) #key, value 튜플 형식으로 나누기 리턴값은 리스트\n",
    "\n",
    "    plt.bar(x[:10], y[:10])\n",
    "    plt.rcParams['figure.figsize'] = [10, 5]"
   ]
  },
  {
   "cell_type": "code",
   "execution_count": 71,
   "metadata": {},
   "outputs": [],
   "source": [
    "final_dict = descending_order(count_dict(sigun_list, sell_list)) "
   ]
  },
  {
   "cell_type": "code",
   "execution_count": 78,
   "metadata": {},
   "outputs": [],
   "source": [
    "del final_dict['서울특별시']"
   ]
  },
  {
   "cell_type": "code",
   "execution_count": 79,
   "metadata": {},
   "outputs": [
    {
     "data": {
      "text/plain": [
       "{'부산광역시': 224,\n",
       " '대구광역시': 175,\n",
       " '인천광역시': 157,\n",
       " '광주광역시': 112,\n",
       " '대전광역시': 102,\n",
       " '수원시': 89,\n",
       " '용인시': 75,\n",
       " '성남시': 69,\n",
       " '청주시': 61,\n",
       " '울산광역시': 59,\n",
       " '고양시': 54,\n",
       " '천안시': 52,\n",
       " '부천시': 51,\n",
       " '화성시': 50,\n",
       " '창원시': 49,\n",
       " '안산시': 47,\n",
       " '안양시': 43,\n",
       " '남양주시': 41,\n",
       " '춘천시': 39,\n",
       " '전주시': 38,\n",
       " '포항시': 37,\n",
       " '세종특별자치시': 34,\n",
       " '진주시': 33,\n",
       " '경산시': 32,\n",
       " '평택시': 32,\n",
       " '의정부시': 30,\n",
       " '원주시': 29,\n",
       " '군포시': 29,\n",
       " '파주시': 27,\n",
       " '광주시': 26,\n",
       " '광명시': 26,\n",
       " '시흥시': 24,\n",
       " '여수시': 23,\n",
       " '양산시': 22,\n",
       " '순천시': 22,\n",
       " '하남시': 21,\n",
       " '목포시': 19,\n",
       " '아산시': 18,\n",
       " '김해시': 17,\n",
       " '양주시': 16,\n",
       " '구리시': 16,\n",
       " '강릉시': 15,\n",
       " '김포시': 14,\n",
       " '안성시': 13,\n",
       " '익산시': 12,\n",
       " '제주시': 12,\n",
       " '포천시': 11,\n",
       " '충주시': 11,\n",
       " '의왕시': 10,\n",
       " '이천시': 10,\n",
       " '군산시': 10,\n",
       " '경주시': 8,\n",
       " '논산시': 8,\n",
       " '광양시': 7,\n",
       " '홍성군': 7,\n",
       " '거제시': 7,\n",
       " '안동시': 7,\n",
       " '당진시': 7,\n",
       " '연천군': 7,\n",
       " '구미시': 7,\n",
       " '김천시': 6,\n",
       " '화순군': 6,\n",
       " '영주시': 6,\n",
       " '오산시': 6,\n",
       " '가평군': 5,\n",
       " '과천시': 5,\n",
       " '무안군': 4,\n",
       " '보령시': 4,\n",
       " '진천군': 4,\n",
       " '태백시': 4,\n",
       " '양평군': 4,\n",
       " '영천시': 4,\n",
       " '울진군': 4,\n",
       " '사천시': 4,\n",
       " '제천시': 4,\n",
       " '김제시': 4,\n",
       " '정읍시': 4,\n",
       " '공주시': 3,\n",
       " '밀양시': 3,\n",
       " '고성군': 3,\n",
       " '여주시': 3,\n",
       " '서산시': 3,\n",
       " '보은군': 3,\n",
       " '남원시': 3,\n",
       " '서귀포시': 3,\n",
       " '창녕군': 3,\n",
       " '장수군': 3,\n",
       " '인제군': 3,\n",
       " '해남군': 3,\n",
       " '삼척시': 3,\n",
       " '거창군': 3,\n",
       " '함안군': 3,\n",
       " '홍천군': 2,\n",
       " '청양군': 2,\n",
       " '장성군': 2,\n",
       " '예산군': 2,\n",
       " '나주시': 2,\n",
       " '성주군': 2,\n",
       " '옥천군': 2,\n",
       " '봉화군': 2,\n",
       " '영암군': 2,\n",
       " '곡성군': 2,\n",
       " '보성군': 2,\n",
       " '부여군': 2,\n",
       " '완주군': 2,\n",
       " '금산군': 2,\n",
       " '영동군': 2,\n",
       " '통영시': 2,\n",
       " '고창군': 2,\n",
       " '양구군': 1,\n",
       " '괴산군': 1,\n",
       " '부안군': 1,\n",
       " '계룡시': 1,\n",
       " '군위군': 1,\n",
       " '철원군': 1,\n",
       " '산청군': 1,\n",
       " '횡성군': 1,\n",
       " '동해시': 1,\n",
       " '증평군': 1,\n",
       " '칠곡군': 1,\n",
       " '달성군': 1,\n",
       " '상주시': 1,\n",
       " '울주군': 1,\n",
       " '장흥군': 1,\n",
       " '양양군': 1,\n",
       " '무주군': 1,\n",
       " '화천군': 1,\n",
       " '예천군': 1,\n",
       " '완도군': 1,\n",
       " '동두천시': 1,\n",
       " nan: 0,\n",
       " '영덕군': 0,\n",
       " '옹진군': 0,\n",
       " '음성군': 0,\n",
       " '고령군': 0,\n",
       " '의령군': 0,\n",
       " '청도군': 0,\n",
       " '구례군': 0,\n",
       " '영광군': 0,\n",
       " '하동군': 0,\n",
       " '태안군': 0,\n",
       " '함평군': 0,\n",
       " '강진군': 0,\n",
       " '남해군': 0,\n",
       " '울릉군': 0,\n",
       " '의성군': 0,\n",
       " '고흥군': 0,\n",
       " '담양군': 0,\n",
       " '영양군': 0,\n",
       " '청송군': 0,\n",
       " '단양군': 0,\n",
       " '임실군': 0,\n",
       " '강화군': 0,\n",
       " '신안군': 0,\n",
       " '진안군': 0,\n",
       " '평창군': 0,\n",
       " '합천군': 0,\n",
       " '영월군': 0,\n",
       " '함양군': 0,\n",
       " '진도군': 0,\n",
       " '정선군': 0,\n",
       " '서천군': 0,\n",
       " '순창군': 0,\n",
       " '속초시': 0,\n",
       " '기장군': 0,\n",
       " '문경시': 0}"
      ]
     },
     "execution_count": 79,
     "metadata": {},
     "output_type": "execute_result"
    }
   ],
   "source": [
    "final_dict"
   ]
  },
  {
   "cell_type": "code",
   "execution_count": 80,
   "metadata": {},
   "outputs": [],
   "source": [
    "#서울시에 속하는 행정구 리스트\n",
    "\n",
    "seoulgu_list = [i for i in df_region[df_region['전국행정동리스트'] == '서울특별시']['Unnamed: 2']]\n",
    "\n",
    "seoulgu_set = set(seoulgu_list)\n",
    "\n",
    "seoulgu_list = list(seoulgu_set) "
   ]
  },
  {
   "cell_type": "code",
   "execution_count": 81,
   "metadata": {},
   "outputs": [],
   "source": [
    "#~구만 추출한 리스트\n",
    "\n",
    "df_seoulgu = df[\"주소\"].str.extract('(\\w*구)')\n",
    "\n",
    "sell_list = [i for i in df_seoulgu.dropna(subset = [0])[0]] "
   ]
  },
  {
   "cell_type": "code",
   "execution_count": 82,
   "metadata": {},
   "outputs": [],
   "source": [
    "seoul_dict = descending_order(count_dict(seoulgu_list, sell_list))"
   ]
  },
  {
   "cell_type": "code",
   "execution_count": 83,
   "metadata": {},
   "outputs": [
    {
     "data": {
      "text/plain": [
       "{'강남구': 90,\n",
       " '송파구': 66,\n",
       " '동작구': 59,\n",
       " '서초구': 53,\n",
       " '동대문구': 52,\n",
       " '마포구': 50,\n",
       " '노원구': 48,\n",
       " '성동구': 47,\n",
       " '영등포구': 45,\n",
       " '관악구': 44,\n",
       " '강서구': 42,\n",
       " '서대문구': 40,\n",
       " '성북구': 37,\n",
       " '중구': 34,\n",
       " '광진구': 32,\n",
       " '용산구': 30,\n",
       " '강동구': 30,\n",
       " '구로구': 28,\n",
       " '종로구': 27,\n",
       " '양천구': 26,\n",
       " '은평구': 22,\n",
       " '도봉구': 20,\n",
       " '중랑구': 19,\n",
       " '강북구': 14,\n",
       " '금천구': 7}"
      ]
     },
     "execution_count": 83,
     "metadata": {},
     "output_type": "execute_result"
    }
   ],
   "source": [
    "seoul_dict"
   ]
  },
  {
   "cell_type": "code",
   "execution_count": 84,
   "metadata": {},
   "outputs": [
    {
     "data": {
      "text/plain": [
       "Text(0.5, 1.0, '서울시 행정구별 판매량')"
      ]
     },
     "execution_count": 84,
     "metadata": {},
     "output_type": "execute_result"
    },
    {
     "data": {
      "image/png": "[encoded data removed]",
      "text/plain": [
       "<Figure size 720x360 with 1 Axes>"
      ]
     },
     "metadata": {
      "needs_background": "light"
     },
     "output_type": "display_data"
    },
    {
     "data": {
      "image/png": "[encoded data removed]",
      "text/plain": [
       "<Figure size 720x360 with 1 Axes>"
      ]
     },
     "metadata": {
      "needs_background": "light"
     },
     "output_type": "display_data"
    }
   ],
   "source": [
    "plt.subplots(constrained_layout=True) #차트 간격 자동조절\n",
    "plt.subplot(211)\n",
    "drawbar_top10(final_dict)\n",
    "plt.title('전국 행정시별 판매량')\n",
    "\n",
    "plt.subplots(constrained_layout=True) #차트 간격 자동조절\n",
    "plt.subplot(212)\n",
    "drawbar_top10(seoul_dict)\n",
    "plt.title('서울시 행정구별 판매량')"
   ]
  }
 ],
 "metadata": {
  "kernelspec": {
   "display_name": "Python 3",
   "language": "python",
   "name": "python3"
  },
  "language_info": {
   "codemirror_mode": {
    "name": "ipython",
    "version": 3
   },
   "file_extension": ".py",
   "mimetype": "text/x-python",
   "name": "python",
   "nbconvert_exporter": "python",
   "pygments_lexer": "ipython3",
   "version": "3.8.5"
  }
 },
 "nbformat": 4,
 "nbformat_minor": 4
}
