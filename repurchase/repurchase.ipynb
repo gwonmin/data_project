{
 "cells": [
  {
   "cell_type": "code",
   "execution_count": 1,
   "metadata": {},
   "outputs": [],
   "source": [
    "import pandas as pd\n",
    "import numpy as np\n",
    "import glob\n",
    "import sys\n",
    "import os\n",
    "import datetime as dt\n",
    "import matplotlib.pyplot as plt"
   ]
  },
  {
   "cell_type": "code",
   "execution_count": 2,
   "metadata": {},
   "outputs": [],
   "source": [
    "#데이터 파일 한번에 여러개 불러오기\n",
    "\n",
    "Cus_Info=pd.DataFrame()\n",
    "\n",
    "for f in glob.glob(\"C:\\\\Users\\\\didrn\\\\OneDrive\\\\바탕 화면\\\\아이펠리.xlsx\\\\2*.xlsx\"):\n",
    "    data = pd.read_excel(f, engine = 'openpyxl')\n",
    "\n",
    "    columns = ['결제일자','품목명','품목코드','수량','수취인','주소']\n",
    "    df = pd.DataFrame(data, columns=columns)\n",
    "    Cus_Info = Cus_Info.append(df, ignore_index=True)\n",
    "\n",
    "Cus_Info.dropna(inplace = True) #결측치 제거\n",
    "Cus_Info = Cus_Info[~Cus_Info['주소'].str.contains(\"주소\", na=False, case=False)] #잘못된 데이터가 포함된 행 제거\n",
    "Cus_Info = Cus_Info.drop_duplicates() #중복되는 행 제거\n",
    "idx_nm = Cus_Info[Cus_Info['결제일자'] == '스마트스토어'].index\n",
    "Cus_Info = Cus_Info.drop(idx_nm)"
   ]
  },
  {
   "cell_type": "code",
   "execution_count": 4,
   "metadata": {},
   "outputs": [],
   "source": [
    "Cus_Info.to_excel(\"C:\\\\Users\\\\didrn\\\\OneDrive\\\\바탕 화면\\\\Cus_data.xlsx\", header=True, index=False)\n",
    "#바탕화면에 병합된 하나의 파일로 저장"
   ]
  },
  {
   "cell_type": "code",
   "execution_count": 5,
   "metadata": {},
   "outputs": [],
   "source": [
    "#재구매율 구하기\n",
    "\n",
    "def repurchase_rate(df, target_code):\n",
    "    \n",
    "    case = df[df.품목코드 == str(target_code)]\n",
    "\n",
    "    group = case.groupby('주소')['결제일자'].nunique()\n",
    "    #같은 주소 기준 결제일자로 그룹화\n",
    "\n",
    "    buy_total = len([i for i in case.품목코드]) # 중복을 제거한 구매횟수\n",
    "    buy_2 = 0\n",
    "    buy_over = 0\n",
    "\n",
    "    for i in group:\n",
    "        if i == 1:\n",
    "            pass\n",
    "        elif i == 2:\n",
    "            buy_2 += 1\n",
    "        else:\n",
    "            buy_over += 1\n",
    "\n",
    "    rebuy_2 = buy_2 / buy_total * 100\n",
    "    rebuy_over = buy_over / buy_total * 100\n",
    "    \n",
    "    target_name = Cus_Info.품목명[Cus_Info.품목코드 == target_code].unique()[0]\n",
    "    \n",
    "    result = [target_name, rebuy_2, rebuy_over]\n",
    "    \n",
    "    return result "
   ]
  },
  {
   "cell_type": "code",
   "execution_count": 6,
   "metadata": {},
   "outputs": [],
   "source": [
    "df2020_2 = pd.read_excel(\"C:\\\\Users\\\\didrn\\\\OneDrive\\\\바탕 화면\\\\분기별 데이터\\\\2020년 2분기.xlsx\", engine = 'openpyxl')\n",
    "df2020_3 = pd.read_excel(\"C:\\\\Users\\\\didrn\\\\OneDrive\\\\바탕 화면\\\\분기별 데이터\\\\2020년 3분기.xlsx\", engine = 'openpyxl')\n",
    "df2020_4 = pd.read_excel(\"C:\\\\Users\\\\didrn\\\\OneDrive\\\\바탕 화면\\\\분기별 데이터\\\\2020년 4분기.xlsx\", engine = 'openpyxl')\n",
    "df2021_1 = pd.read_excel(\"C:\\\\Users\\\\didrn\\\\OneDrive\\\\바탕 화면\\\\분기별 데이터\\\\2021년 1분기.xlsx\", engine = 'openpyxl')\n",
    "df2021_2 = pd.read_excel(\"C:\\\\Users\\\\didrn\\\\OneDrive\\\\바탕 화면\\\\분기별 데이터\\\\2021년 2분기.xlsx\", engine = 'openpyxl')\n",
    "df2021_3 = pd.read_excel(\"C:\\\\Users\\\\didrn\\\\OneDrive\\\\바탕 화면\\\\분기별 데이터\\\\2021년 3분기.xlsx\", engine = 'openpyxl')\n",
    "\n",
    "df0 = pd.merge(df2020_2, df2020_3, how = 'outer')\n",
    "df1 = pd.merge(df2020_4, df2021_1, how = 'outer')\n",
    "df2 = pd.merge(df2021_2, df2021_3, how = 'outer')"
   ]
  },
  {
   "cell_type": "code",
   "execution_count": 62,
   "metadata": {
    "scrolled": true
   },
   "outputs": [
    {
     "data": {
      "text/plain": [
       "Text(0.5, 1.0, '애플펜슬 팁커버 기본')"
      ]
     },
     "execution_count": 62,
     "metadata": {},
     "output_type": "execute_result"
    },
    {
     "data": {
      "image/png": "[encoded data removed]",
      "text/plain": [
       "<Figure size 432x288 with 1 Axes>"
      ]
     },
     "metadata": {
      "needs_background": "light"
     },
     "output_type": "display_data"
    }
   ],
   "source": [
    "x = [\"2020_2~3분기\",\"2020_4~2021_1분기\", \"2021_2~3분기\"]\n",
    "y = [repurchase_rate(df0, \"A0001\")[1],\n",
    "    repurchase_rate(df1, \"A0001\")[1],\n",
    "    repurchase_rate(df2, \"A0001\")[1]]\n",
    "\n",
    "plt.plot(x, y, color = 'b', marker = '*', markeredgecolor = 'red' )\n",
    "plt.ylabel('재구매율(%)')\n",
    "plt.title(\"애플펜슬 팁커버 기본\")"
   ]
  },
  {
   "cell_type": "code",
   "execution_count": 60,
   "metadata": {
    "scrolled": false
   },
   "outputs": [
    {
     "data": {
      "text/plain": [
       "Text(0.5, 1.0, '애플펜슬 팁커버 저마찰')"
      ]
     },
     "execution_count": 60,
     "metadata": {},
     "output_type": "execute_result"
    },
    {
     "data": {
      "image/png": "[encoded data removed]",
      "text/plain": [
       "<Figure size 432x288 with 1 Axes>"
      ]
     },
     "metadata": {
      "needs_background": "light"
     },
     "output_type": "display_data"
    }
   ],
   "source": [
    "x = [\"2020_2~3분기\",\"2020_4~2021_1분기\", \"2021_2~3분기\"]\n",
    "y = [repurchase_rate(df0, \"A0002\")[1],\n",
    "    repurchase_rate(df1, \"A0002\")[1],\n",
    "    repurchase_rate(df2, \"A0002\")[1]]\n",
    "\n",
    "plt.plot(x, y, color = 'b',marker = '*', markeredgecolor = 'red')\n",
    "plt.ylabel('재구매율(%)')\n",
    "plt.title(\"애플펜슬 팁커버 저마찰\")"
   ]
  },
  {
   "cell_type": "code",
   "execution_count": 12,
   "metadata": {},
   "outputs": [],
   "source": [
    "#재구매 주기 리스트 구하기\n",
    "def term_list(target_code): #target_code에 조사하고 싶은 품목코드 입력\n",
    "    if target_code == \"all\":\n",
    "        case = Cus_Info\n",
    "\n",
    "    else:\n",
    "        case = Cus_Info[Cus_Info.품목코드 == target_code]\n",
    "\n",
    "    group = case.groupby('주소')['결제일자']\n",
    "\n",
    "    a = {}\n",
    "\n",
    "    for i,j in group:\n",
    "        a[i] = j\n",
    "\n",
    "    term_list = []\n",
    "\n",
    "    for i in a.values():\n",
    "        if i.count() == 2:\n",
    "\n",
    "            dt1 = dt.datetime(int(str(i).split()[1].split(\"-\")[0]),\n",
    "                      int(str(i).split()[1].split(\"-\")[1]),\n",
    "                      int(str(i).split()[1].split(\"-\")[2]))\n",
    "            dt2 = dt.datetime(int(str(i).split()[4].split(\"-\")[0]),\n",
    "                      int(str(i).split()[4].split(\"-\")[1]),\n",
    "                      int(str(i).split()[4].split(\"-\")[2]))\n",
    "\n",
    "            term = dt2 - dt1\n",
    "            term_list.append(abs(term.days))\n",
    "\n",
    "    return term_list"
   ]
  },
  {
   "cell_type": "code",
   "execution_count": 41,
   "metadata": {
    "scrolled": true
   },
   "outputs": [
    {
     "data": {
      "image/png": "[encoded data removed]",
      "text/plain": [
       "<Figure size 432x288 with 1 Axes>"
      ]
     },
     "metadata": {
      "needs_background": "light"
     },
     "output_type": "display_data"
    }
   ],
   "source": [
    "a = term_list(\"A0001\")\n",
    "avg = sum(a)/len(a)\n",
    "\n",
    "plt.hist(a, bins = 20, color = 'c', edgecolor = 'k', alpha = 0.65)\n",
    "plt.title(\"아이펠리 팁커버(기본) 히스토그램\")\n",
    "plt.xlabel('기간')\n",
    "plt.axvline(avg, color = 'r', linestyle = 'dashed', linewidth=1)\n",
    "\n",
    "min_ylim, max_ylim = plt.ylim()\n",
    "plt.text(avg*1.1, max_ylim*0.9, '평균: %d 일' %(avg))\n",
    "plt.show()"
   ]
  },
  {
   "cell_type": "code",
   "execution_count": 43,
   "metadata": {
    "scrolled": true
   },
   "outputs": [
    {
     "data": {
      "image/png": "[encoded data removed]",
      "text/plain": [
       "<Figure size 432x288 with 1 Axes>"
      ]
     },
     "metadata": {
      "needs_background": "light"
     },
     "output_type": "display_data"
    }
   ],
   "source": [
    "b = term_list(\"A0002\")\n",
    "avg_b = sum(b)/len(b)\n",
    "\n",
    "plt.hist(b, bins = 20, color = 'c', edgecolor = 'k', alpha = 0.65)\n",
    "plt.title(\"아이펠리 팁커버(저마찰) 히스토그램\")\n",
    "plt.xlabel('기간')\n",
    "plt.axvline(avg_b, color = 'r', linestyle = 'dashed', linewidth=1)\n",
    "\n",
    "min_ylim, max_ylim = plt.ylim()\n",
    "plt.text(avg_b*1.1, max_ylim*0.9, '평균: %d 일' %(avg_b))\n",
    "plt.show()"
   ]
  }
 ],
 "metadata": {
  "kernelspec": {
   "display_name": "Python 3",
   "language": "python",
   "name": "python3"
  },
  "language_info": {
   "codemirror_mode": {
    "name": "ipython",
    "version": 3
   },
   "file_extension": ".py",
   "mimetype": "text/x-python",
   "name": "python",
   "nbconvert_exporter": "python",
   "pygments_lexer": "ipython3",
   "version": "3.8.5"
  }
 },
 "nbformat": 4,
 "nbformat_minor": 4
}
