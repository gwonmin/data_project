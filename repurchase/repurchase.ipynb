{
 "cells": [
  {
   "cell_type": "code",
   "execution_count": 115,
   "metadata": {},
   "outputs": [],
   "source": [
    "import pandas as pd\n",
    "import numpy as np\n",
    "import glob\n",
    "import sys\n",
    "import os\n",
    "\n",
    "#데이터 파일 한번에 여러개 불러오기\n",
    "\n",
    "Cus_Info=pd.DataFrame()\n",
    "\n",
    "for f in glob.glob(\"C:\\\\Users\\\\didrn\\\\OneDrive\\\\바탕 화면\\\\아이펠리.xlsx\\\\2*.xlsx\"):\n",
    "    data = pd.read_excel(f)\n",
    "\n",
    "    columns = ['결제일자','품목코드','수취인','주소']\n",
    "    df = pd.DataFrame(data, columns=columns)\n",
    "    Cus_Info = Cus_Info.append(df, ignore_index=True)\n",
    "    \n",
    "Cus_Info.dropna(inplace = True) #결측치 제거\n",
    "Cus_Info = Cus_Info[~Cus_Info['주소'].str.contains(\"주소\", na=False, case=False)]\n",
    "#잘못된 데이터가 포함된 행 제거\n",
    "Cus_Info = Cus_Info.drop_duplicates() #중복되는 행 제거\n"
   ]
  },
  {
   "cell_type": "code",
   "execution_count": 116,
   "metadata": {},
   "outputs": [],
   "source": [
    "Cus_Info.to_excel(\"C:\\\\Users\\\\didrn\\\\OneDrive\\\\바탕 화면\\\\Cus_data.xlsx\", header=True, index=False)\n",
    "#바탕화면에 병합된 하나의 파일로 저장"
   ]
  },
  {
   "cell_type": "code",
   "execution_count": 135,
   "metadata": {},
   "outputs": [],
   "source": [
    "def repurchase_rate(target_code):\n",
    "    \n",
    "    case = Cus_Info[Cus_Info.품목코드 == str(target_code)]\n",
    "\n",
    "    group = case.groupby('주소')['결제일자'].nunique()\n",
    "    #같은 주소 기준 결제일자로 그룹화\n",
    "\n",
    "    buy_total = len([i for i in case.품목코드]) # 중복을 제거한 구매횟수\n",
    "    buy_2 = 0\n",
    "    buy_over = 0\n",
    "\n",
    "    for i in group:\n",
    "        if i == 1:\n",
    "            pass\n",
    "        elif i == 2:\n",
    "            buy_2 += 1\n",
    "        else:\n",
    "            buy_over += 1\n",
    "\n",
    "    rebuy_2 = buy_2 / buy_total * 100\n",
    "    rebuy_over = buy_over / buy_total * 100\n",
    "    \n",
    "    print(\"1회 재구매율: %f\" %(rebuy_2))\n",
    "    print(\"2회 이상 재구매율: %f\" %(rebuy_over))"
   ]
  },
  {
   "cell_type": "code",
   "execution_count": 136,
   "metadata": {},
   "outputs": [
    {
     "name": "stdout",
     "output_type": "stream",
     "text": [
      "1회 재구매율: 3.546384\n",
      "2회 이상 재구매율: 0.343919\n"
     ]
    }
   ],
   "source": [
    "repurchase_rate(\"A0001\")"
   ]
  },
  {
   "cell_type": "code",
   "execution_count": 137,
   "metadata": {},
   "outputs": [
    {
     "name": "stdout",
     "output_type": "stream",
     "text": [
      "1회 재구매율: 3.052354\n",
      "2회 이상 재구매율: 0.315539\n"
     ]
    }
   ],
   "source": [
    "repurchase_rate(\"A0002\")"
   ]
  },
  {
   "cell_type": "code",
   "execution_count": 139,
   "metadata": {
    "scrolled": true
   },
   "outputs": [
    {
     "name": "stdout",
     "output_type": "stream",
     "text": [
      "1회 재구매율: 3.440233\n",
      "2회 이상 재구매율: 0.291545\n"
     ]
    }
   ],
   "source": [
    "repurchase_rate(\"IFT02LB\")"
   ]
  },
  {
   "cell_type": "code",
   "execution_count": 140,
   "metadata": {},
   "outputs": [
    {
     "name": "stdout",
     "output_type": "stream",
     "text": [
      "1회 재구매율: 2.357456\n",
      "2회 이상 재구매율: 0.493421\n"
     ]
    }
   ],
   "source": [
    "repurchase_rate(\"IFT02NB\")"
   ]
  },
  {
   "cell_type": "code",
   "execution_count": 141,
   "metadata": {},
   "outputs": [
    {
     "name": "stdout",
     "output_type": "stream",
     "text": [
      "1회 재구매율: 4.032520\n",
      "2회 이상 재구매율: 0.390244\n"
     ]
    }
   ],
   "source": [
    "repurchase_rate(\"IFT02LW\")"
   ]
  },
  {
   "cell_type": "code",
   "execution_count": 142,
   "metadata": {
    "scrolled": true
   },
   "outputs": [
    {
     "name": "stdout",
     "output_type": "stream",
     "text": [
      "1회 재구매율: 4.872727\n",
      "2회 이상 재구매율: 0.727273\n"
     ]
    }
   ],
   "source": [
    "repurchase_rate(\"IFT02NW\")"
   ]
  },
  {
   "cell_type": "code",
   "execution_count": 240,
   "metadata": {},
   "outputs": [],
   "source": [
    "import datetime as dt\n",
    "import matplotlib.pyplot as plt"
   ]
  },
  {
   "cell_type": "code",
   "execution_count": 294,
   "metadata": {},
   "outputs": [],
   "source": [
    "#재구매 주기 리스트 구하기\n",
    "def term_list(target_code): #target_code에 조사하고 싶은 품목코드 입력\n",
    "    \n",
    "    case = Cus_Info[Cus_Info.품목코드 == target_code]\n",
    "\n",
    "    group = case.groupby('주소')['결제일자']\n",
    "    \n",
    "    a = {}\n",
    "\n",
    "    for i,j in group:\n",
    "        a[i] = j\n",
    "        \n",
    "    term_list = []\n",
    "\n",
    "    for i in a.values():\n",
    "        if i.count() == 2:\n",
    "\n",
    "            dt1 = dt.datetime(int(str(i).split()[1].split(\"-\")[0]),\n",
    "                      int(str(i).split()[1].split(\"-\")[1]),\n",
    "                      int(str(i).split()[1].split(\"-\")[2]))\n",
    "            dt2 = dt.datetime(int(str(i).split()[4].split(\"-\")[0]),\n",
    "                      int(str(i).split()[4].split(\"-\")[1]),\n",
    "                      int(str(i).split()[4].split(\"-\")[2]))\n",
    "\n",
    "            term = dt2 - dt1\n",
    "            term_list.append(abs(term.days))\n",
    "\n",
    "    return term_list"
   ]
  },
  {
   "cell_type": "code",
   "execution_count": 301,
   "metadata": {
    "scrolled": false
   },
   "outputs": [
    {
     "data": {
      "image/png": "[encoded data removed]",
      "text/plain": [
       "<Figure size 432x288 with 1 Axes>"
      ]
     },
     "metadata": {
      "needs_background": "light"
     },
     "output_type": "display_data"
    }
   ],
   "source": [
    "plt.hist(term_list(\"A0001\"))\n",
    "plt.title(\"repurchase_term\")\n",
    "plt.xlabel(\"day\")\n",
    "plt.show()"
   ]
  },
  {
   "cell_type": "code",
   "execution_count": 302,
   "metadata": {},
   "outputs": [
    {
     "data": {
      "image/png": "[encoded data removed]",
      "text/plain": [
       "<Figure size 432x288 with 1 Axes>"
      ]
     },
     "metadata": {
      "needs_background": "light"
     },
     "output_type": "display_data"
    }
   ],
   "source": [
    "plt.hist(term_list(\"A0002\"))\n",
    "plt.title(\"repurchase_term\")\n",
    "plt.xlabel(\"day\")\n",
    "plt.show()"
   ]
  },
  {
   "cell_type": "code",
   "execution_count": 303,
   "metadata": {},
   "outputs": [
    {
     "data": {
      "image/png": "[encoded data removed]",
      "text/plain": [
       "<Figure size 432x288 with 1 Axes>"
      ]
     },
     "metadata": {
      "needs_background": "light"
     },
     "output_type": "display_data"
    }
   ],
   "source": [
    "plt.hist(term_list(\"IFT02LB\"))\n",
    "plt.title(\"repurchase_term\")\n",
    "plt.xlabel(\"day\")\n",
    "plt.show()"
   ]
  },
  {
   "cell_type": "code",
   "execution_count": 304,
   "metadata": {},
   "outputs": [
    {
     "data": {
      "image/png": "[encoded data removed]",
      "text/plain": [
       "<Figure size 432x288 with 1 Axes>"
      ]
     },
     "metadata": {
      "needs_background": "light"
     },
     "output_type": "display_data"
    }
   ],
   "source": [
    "plt.hist(term_list(\"IFT02NB\"))\n",
    "plt.title(\"repurchase_term\")\n",
    "plt.xlabel(\"day\")\n",
    "plt.show()"
   ]
  },
  {
   "cell_type": "code",
   "execution_count": 305,
   "metadata": {},
   "outputs": [
    {
     "data": {
      "image/png": "[encoded data removed]",
      "text/plain": [
       "<Figure size 432x288 with 1 Axes>"
      ]
     },
     "metadata": {
      "needs_background": "light"
     },
     "output_type": "display_data"
    }
   ],
   "source": [
    "plt.hist(term_list(\"IFT02LW\"))\n",
    "plt.title(\"repurchase_term\")\n",
    "plt.xlabel(\"day\")\n",
    "plt.show()"
   ]
  },
  {
   "cell_type": "code",
   "execution_count": 306,
   "metadata": {},
   "outputs": [
    {
     "data": {
      "image/png": "[encoded data removed]",
      "text/plain": [
       "<Figure size 432x288 with 1 Axes>"
      ]
     },
     "metadata": {
      "needs_background": "light"
     },
     "output_type": "display_data"
    }
   ],
   "source": [
    "plt.hist(term_list(\"IFT02NW\"))\n",
    "plt.title(\"repurchase_term\")\n",
    "plt.xlabel(\"day\")\n",
    "plt.show()"
   ]
  }
 ],
 "metadata": {
  "kernelspec": {
   "display_name": "Python 3",
   "language": "python",
   "name": "python3"
  },
  "language_info": {
   "codemirror_mode": {
    "name": "ipython",
    "version": 3
   },
   "file_extension": ".py",
   "mimetype": "text/x-python",
   "name": "python",
   "nbconvert_exporter": "python",
   "pygments_lexer": "ipython3",
   "version": "3.8.5"
  }
 },
 "nbformat": 4,
 "nbformat_minor": 4
}
