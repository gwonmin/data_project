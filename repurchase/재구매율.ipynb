{
 "cells": [
  {
   "cell_type": "code",
   "execution_count": 43,
   "id": "70907227",
   "metadata": {},
   "outputs": [
    {
     "name": "stdout",
     "output_type": "stream",
     "text": [
      "(68591, 4)\n"
     ]
    },
    {
     "data": {
      "text/html": [
       "<div>\n",
       "<style scoped>\n",
       "    .dataframe tbody tr th:only-of-type {\n",
       "        vertical-align: middle;\n",
       "    }\n",
       "\n",
       "    .dataframe tbody tr th {\n",
       "        vertical-align: top;\n",
       "    }\n",
       "\n",
       "    .dataframe thead th {\n",
       "        text-align: right;\n",
       "    }\n",
       "</style>\n",
       "<table border=\"1\" class=\"dataframe\">\n",
       "  <thead>\n",
       "    <tr style=\"text-align: right;\">\n",
       "      <th></th>\n",
       "      <th>결제일자</th>\n",
       "      <th>품목코드</th>\n",
       "      <th>수취인</th>\n",
       "      <th>수취인연락처1</th>\n",
       "    </tr>\n",
       "  </thead>\n",
       "  <tbody>\n",
       "    <tr>\n",
       "      <th>0</th>\n",
       "      <td>2020-10-05 00:00:00</td>\n",
       "      <td>A0001</td>\n",
       "      <td>안정은</td>\n",
       "      <td>0507-1884-0678</td>\n",
       "    </tr>\n",
       "    <tr>\n",
       "      <th>1</th>\n",
       "      <td>2020-10-05 00:00:00</td>\n",
       "      <td>A0001</td>\n",
       "      <td>박종훈</td>\n",
       "      <td>0507-1883-8032</td>\n",
       "    </tr>\n",
       "    <tr>\n",
       "      <th>2</th>\n",
       "      <td>2020-10-05 00:00:00</td>\n",
       "      <td>A0001</td>\n",
       "      <td>황예준</td>\n",
       "      <td>010-5098-2073</td>\n",
       "    </tr>\n",
       "    <tr>\n",
       "      <th>3</th>\n",
       "      <td>2020-10-05 00:00:00</td>\n",
       "      <td>A0001</td>\n",
       "      <td>정하연</td>\n",
       "      <td>010-8332-1124</td>\n",
       "    </tr>\n",
       "    <tr>\n",
       "      <th>4</th>\n",
       "      <td>2020-10-05 00:00:00</td>\n",
       "      <td>A0001</td>\n",
       "      <td>김언희</td>\n",
       "      <td>010-8984-0123</td>\n",
       "    </tr>\n",
       "  </tbody>\n",
       "</table>\n",
       "</div>"
      ],
      "text/plain": [
       "                  결제일자   품목코드  수취인         수취인연락처1\n",
       "0  2020-10-05 00:00:00  A0001  안정은  0507-1884-0678\n",
       "1  2020-10-05 00:00:00  A0001  박종훈  0507-1883-8032\n",
       "2  2020-10-05 00:00:00  A0001  황예준   010-5098-2073\n",
       "3  2020-10-05 00:00:00  A0001  정하연   010-8332-1124\n",
       "4  2020-10-05 00:00:00  A0001  김언희   010-8984-0123"
      ]
     },
     "execution_count": 43,
     "metadata": {},
     "output_type": "execute_result"
    }
   ],
   "source": [
    "import pandas as pd\n",
    "import numpy as np\n",
    "import glob\n",
    "import sys\n",
    "\n",
    "Cus_Info=pd.DataFrame()\n",
    "\n",
    "for f in glob.glob(\"C:\\\\Users\\\\82109\\\\Desktop\\\\산공종설\\\\연습\\\\2*.xlsx\"):\n",
    "    data = pd.read_excel(f)\n",
    "\n",
    "    columns = ['결제일자','품목코드','수취인','수취인연락처1']\n",
    "    df = pd.DataFrame(data, columns=columns)\n",
    "    Cus_Info = Cus_Info.append(df, ignore_index=True)\n",
    "\n",
    "print(Cus_Info.shape)\n",
    "    \n",
    "Cus_Info.head()"
   ]
  },
  {
   "cell_type": "code",
   "execution_count": 44,
   "id": "00d5a44f",
   "metadata": {},
   "outputs": [],
   "source": [
    "Cus_Info.to_excel(\"C:\\\\Users\\\\82109\\\\Desktop\\\\산공종설\\\\연습\\\\Cus_data.xlsx\", header=True, index=False)"
   ]
  },
  {
   "cell_type": "code",
   "execution_count": 51,
   "id": "3862c565",
   "metadata": {},
   "outputs": [
    {
     "data": {
      "text/html": [
       "<div>\n",
       "<style scoped>\n",
       "    .dataframe tbody tr th:only-of-type {\n",
       "        vertical-align: middle;\n",
       "    }\n",
       "\n",
       "    .dataframe tbody tr th {\n",
       "        vertical-align: top;\n",
       "    }\n",
       "\n",
       "    .dataframe thead th {\n",
       "        text-align: right;\n",
       "    }\n",
       "</style>\n",
       "<table border=\"1\" class=\"dataframe\">\n",
       "  <thead>\n",
       "    <tr style=\"text-align: right;\">\n",
       "      <th></th>\n",
       "      <th>결제일자</th>\n",
       "      <th>품목코드</th>\n",
       "      <th>수취인</th>\n",
       "      <th>수취인연락처1</th>\n",
       "    </tr>\n",
       "  </thead>\n",
       "  <tbody>\n",
       "    <tr>\n",
       "      <th>0</th>\n",
       "      <td>2020-10-5 0:00:00</td>\n",
       "      <td>A0001</td>\n",
       "      <td>안정은</td>\n",
       "      <td>0507-1884-0678</td>\n",
       "    </tr>\n",
       "    <tr>\n",
       "      <th>1</th>\n",
       "      <td>2020-10-5 0:00:00</td>\n",
       "      <td>A0001</td>\n",
       "      <td>박종훈</td>\n",
       "      <td>0507-1883-8032</td>\n",
       "    </tr>\n",
       "    <tr>\n",
       "      <th>2</th>\n",
       "      <td>2020-10-5 0:00:00</td>\n",
       "      <td>A0001</td>\n",
       "      <td>황예준</td>\n",
       "      <td>010-5098-2073</td>\n",
       "    </tr>\n",
       "    <tr>\n",
       "      <th>3</th>\n",
       "      <td>2020-10-5 0:00:00</td>\n",
       "      <td>A0001</td>\n",
       "      <td>정하연</td>\n",
       "      <td>010-8332-1124</td>\n",
       "    </tr>\n",
       "    <tr>\n",
       "      <th>4</th>\n",
       "      <td>2020-10-5 0:00:00</td>\n",
       "      <td>A0001</td>\n",
       "      <td>김언희</td>\n",
       "      <td>010-8984-0123</td>\n",
       "    </tr>\n",
       "  </tbody>\n",
       "</table>\n",
       "</div>"
      ],
      "text/plain": [
       "                결제일자   품목코드  수취인         수취인연락처1\n",
       "0  2020-10-5 0:00:00  A0001  안정은  0507-1884-0678\n",
       "1  2020-10-5 0:00:00  A0001  박종훈  0507-1883-8032\n",
       "2  2020-10-5 0:00:00  A0001  황예준   010-5098-2073\n",
       "3  2020-10-5 0:00:00  A0001  정하연   010-8332-1124\n",
       "4  2020-10-5 0:00:00  A0001  김언희   010-8984-0123"
      ]
     },
     "execution_count": 51,
     "metadata": {},
     "output_type": "execute_result"
    }
   ],
   "source": [
    "Cus = pd.read_table(\"C:\\\\Users\\\\82109\\\\Desktop\\\\산공종설\\\\연습\\\\Cus_Data.txt\",sep=',',encoding='cp949')\n",
    "Cus.head()"
   ]
  },
  {
   "cell_type": "code",
   "execution_count": 53,
   "id": "524f1fbd",
   "metadata": {},
   "outputs": [
    {
     "data": {
      "text/html": [
       "<div>\n",
       "<style scoped>\n",
       "    .dataframe tbody tr th:only-of-type {\n",
       "        vertical-align: middle;\n",
       "    }\n",
       "\n",
       "    .dataframe tbody tr th {\n",
       "        vertical-align: top;\n",
       "    }\n",
       "\n",
       "    .dataframe thead th {\n",
       "        text-align: right;\n",
       "    }\n",
       "</style>\n",
       "<table border=\"1\" class=\"dataframe\">\n",
       "  <thead>\n",
       "    <tr style=\"text-align: right;\">\n",
       "      <th></th>\n",
       "      <th>결제일자</th>\n",
       "      <th>품목코드</th>\n",
       "      <th>수취인</th>\n",
       "      <th>연락처</th>\n",
       "    </tr>\n",
       "  </thead>\n",
       "  <tbody>\n",
       "    <tr>\n",
       "      <th>0</th>\n",
       "      <td>2020-10-5 0:00:00</td>\n",
       "      <td>A0001</td>\n",
       "      <td>안정은</td>\n",
       "      <td>0507-1884-0678</td>\n",
       "    </tr>\n",
       "    <tr>\n",
       "      <th>1</th>\n",
       "      <td>2020-10-5 0:00:00</td>\n",
       "      <td>A0001</td>\n",
       "      <td>박종훈</td>\n",
       "      <td>0507-1883-8032</td>\n",
       "    </tr>\n",
       "    <tr>\n",
       "      <th>2</th>\n",
       "      <td>2020-10-5 0:00:00</td>\n",
       "      <td>A0001</td>\n",
       "      <td>황예준</td>\n",
       "      <td>010-5098-2073</td>\n",
       "    </tr>\n",
       "    <tr>\n",
       "      <th>3</th>\n",
       "      <td>2020-10-5 0:00:00</td>\n",
       "      <td>A0001</td>\n",
       "      <td>정하연</td>\n",
       "      <td>010-8332-1124</td>\n",
       "    </tr>\n",
       "    <tr>\n",
       "      <th>4</th>\n",
       "      <td>2020-10-5 0:00:00</td>\n",
       "      <td>A0001</td>\n",
       "      <td>김언희</td>\n",
       "      <td>010-8984-0123</td>\n",
       "    </tr>\n",
       "  </tbody>\n",
       "</table>\n",
       "</div>"
      ],
      "text/plain": [
       "                결제일자   품목코드  수취인             연락처\n",
       "0  2020-10-5 0:00:00  A0001  안정은  0507-1884-0678\n",
       "1  2020-10-5 0:00:00  A0001  박종훈  0507-1883-8032\n",
       "2  2020-10-5 0:00:00  A0001  황예준   010-5098-2073\n",
       "3  2020-10-5 0:00:00  A0001  정하연   010-8332-1124\n",
       "4  2020-10-5 0:00:00  A0001  김언희   010-8984-0123"
      ]
     },
     "execution_count": 53,
     "metadata": {},
     "output_type": "execute_result"
    }
   ],
   "source": [
    "Cus.rename(columns={Cus.columns[3]:'연락처'},inplace=True)\n",
    "Cus.head()"
   ]
  },
  {
   "cell_type": "code",
   "execution_count": 70,
   "id": "d18d5402",
   "metadata": {},
   "outputs": [
    {
     "data": {
      "text/html": [
       "<div>\n",
       "<style scoped>\n",
       "    .dataframe tbody tr th:only-of-type {\n",
       "        vertical-align: middle;\n",
       "    }\n",
       "\n",
       "    .dataframe tbody tr th {\n",
       "        vertical-align: top;\n",
       "    }\n",
       "\n",
       "    .dataframe thead th {\n",
       "        text-align: right;\n",
       "    }\n",
       "</style>\n",
       "<table border=\"1\" class=\"dataframe\">\n",
       "  <thead>\n",
       "    <tr style=\"text-align: right;\">\n",
       "      <th></th>\n",
       "      <th>결제일자</th>\n",
       "      <th>품목코드</th>\n",
       "      <th>수취인</th>\n",
       "      <th>연락처</th>\n",
       "    </tr>\n",
       "  </thead>\n",
       "  <tbody>\n",
       "    <tr>\n",
       "      <th>0</th>\n",
       "      <td>2020-10-5 0:00:00</td>\n",
       "      <td>A0001</td>\n",
       "      <td>안정은</td>\n",
       "      <td>0507-1884-0678</td>\n",
       "    </tr>\n",
       "    <tr>\n",
       "      <th>17145</th>\n",
       "      <td>2020-5-18 0:00:00</td>\n",
       "      <td>A0001</td>\n",
       "      <td>최선빈</td>\n",
       "      <td>010-2393-0513</td>\n",
       "    </tr>\n",
       "    <tr>\n",
       "      <th>17143</th>\n",
       "      <td>2020-5-18 0:00:00</td>\n",
       "      <td>A0001</td>\n",
       "      <td>이혜우</td>\n",
       "      <td>010-9049-1484</td>\n",
       "    </tr>\n",
       "    <tr>\n",
       "      <th>33204</th>\n",
       "      <td>2021-2-17 0:00:00</td>\n",
       "      <td>A0001</td>\n",
       "      <td>성현지</td>\n",
       "      <td>010-6427-0553</td>\n",
       "    </tr>\n",
       "    <tr>\n",
       "      <th>17141</th>\n",
       "      <td>2020-5-18 0:00:00</td>\n",
       "      <td>A0001</td>\n",
       "      <td>박지원</td>\n",
       "      <td>010-4942-5641</td>\n",
       "    </tr>\n",
       "  </tbody>\n",
       "</table>\n",
       "</div>"
      ],
      "text/plain": [
       "                    결제일자   품목코드  수취인             연락처\n",
       "0      2020-10-5 0:00:00  A0001  안정은  0507-1884-0678\n",
       "17145  2020-5-18 0:00:00  A0001  최선빈   010-2393-0513\n",
       "17143  2020-5-18 0:00:00  A0001  이혜우   010-9049-1484\n",
       "33204  2021-2-17 0:00:00  A0001  성현지   010-6427-0553\n",
       "17141  2020-5-18 0:00:00  A0001  박지원   010-4942-5641"
      ]
     },
     "execution_count": 70,
     "metadata": {},
     "output_type": "execute_result"
    }
   ],
   "source": [
    "Cus.sort_values(by='품목코드', ascending=True).head()"
   ]
  },
  {
   "cell_type": "code",
   "execution_count": 74,
   "id": "bce6b1bd",
   "metadata": {},
   "outputs": [
    {
     "data": {
      "text/plain": [
       "0       2020-10-05\n",
       "1       2020-10-05\n",
       "2       2020-10-05\n",
       "3       2020-10-05\n",
       "4       2020-10-05\n",
       "           ...    \n",
       "48785   2021-08-10\n",
       "48786   2021-08-10\n",
       "48787   2021-08-10\n",
       "48788   2021-08-10\n",
       "48789   2021-08-10\n",
       "Name: 결제일자, Length: 48790, dtype: datetime64[ns]"
      ]
     },
     "execution_count": 74,
     "metadata": {},
     "output_type": "execute_result"
    }
   ],
   "source": [
    "pd.to_datetime(Cus['결제일자'])"
   ]
  },
  {
   "cell_type": "code",
   "execution_count": 75,
   "id": "d7ab2279",
   "metadata": {},
   "outputs": [
    {
     "name": "stdout",
     "output_type": "stream",
     "text": [
      "19163\n"
     ]
    }
   ],
   "source": [
    "print(len(Cus['수취인'].unique()))"
   ]
  },
  {
   "cell_type": "code",
   "execution_count": 76,
   "id": "2135a096",
   "metadata": {},
   "outputs": [
    {
     "data": {
      "text/plain": [
       "count    19163.000000\n",
       "mean         2.064865\n",
       "std          3.352996\n",
       "min          1.000000\n",
       "25%          1.000000\n",
       "50%          1.000000\n",
       "75%          2.000000\n",
       "max        108.000000\n",
       "Name: 결제일자, dtype: float64"
      ]
     },
     "execution_count": 76,
     "metadata": {},
     "output_type": "execute_result"
    }
   ],
   "source": [
    "Cus1= Cus.groupby('수취인')['결제일자'].nunique()\n",
    "Cus1.describe()\n",
    "#수취인 한명당 unique 한 결제일자"
   ]
  },
  {
   "cell_type": "code",
   "execution_count": 77,
   "id": "32bca853",
   "metadata": {},
   "outputs": [],
   "source": [
    "import matplotlib.pyplot as plt\n",
    "%matplotlib inline"
   ]
  },
  {
   "cell_type": "code",
   "execution_count": 78,
   "id": "38cae532",
   "metadata": {},
   "outputs": [
    {
     "data": {
      "image/png": "[encoded data removed]",
      "text/plain": [
       "<Figure size 432x288 with 1 Axes>"
      ]
     },
     "metadata": {
      "needs_background": "light"
     },
     "output_type": "display_data"
    }
   ],
   "source": [
    "plt.boxplot(Cus1)\n",
    "plt.show()"
   ]
  },
  {
   "cell_type": "code",
   "execution_count": 79,
   "id": "16a82b53",
   "metadata": {},
   "outputs": [
    {
     "data": {
      "text/plain": [
       "count    19163.000000\n",
       "mean         1.619579\n",
       "std          0.902823\n",
       "min          1.000000\n",
       "25%          1.000000\n",
       "50%          1.000000\n",
       "75%          2.000000\n",
       "max          6.000000\n",
       "Name: 품목코드, dtype: float64"
      ]
     },
     "execution_count": 79,
     "metadata": {},
     "output_type": "execute_result"
    }
   ],
   "source": [
    "Cus2= Cus.groupby('수취인')['품목코드'].nunique()\n",
    "Cus2.describe()\n",
    "#수취인 한명당 unique 한 품목"
   ]
  },
  {
   "cell_type": "code",
   "execution_count": 80,
   "id": "2d3e404e",
   "metadata": {},
   "outputs": [
    {
     "data": {
      "image/png": "[encoded data removed]",
      "text/plain": [
       "<Figure size 432x288 with 1 Axes>"
      ]
     },
     "metadata": {
      "needs_background": "light"
     },
     "output_type": "display_data"
    }
   ],
   "source": [
    "plt.boxplot(Cus2)\n",
    "plt.show()"
   ]
  },
  {
   "cell_type": "code",
   "execution_count": null,
   "id": "00a4824c",
   "metadata": {},
   "outputs": [],
   "source": []
  }
 ],
 "metadata": {
  "kernelspec": {
   "display_name": "Python 3",
   "language": "python",
   "name": "python3"
  },
  "language_info": {
   "codemirror_mode": {
    "name": "ipython",
    "version": 3
   },
   "file_extension": ".py",
   "mimetype": "text/x-python",
   "name": "python",
   "nbconvert_exporter": "python",
   "pygments_lexer": "ipython3",
   "version": "3.8.8"
  }
 },
 "nbformat": 4,
 "nbformat_minor": 5
}
